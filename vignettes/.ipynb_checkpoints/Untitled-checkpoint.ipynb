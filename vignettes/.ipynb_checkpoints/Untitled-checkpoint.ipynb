{
 "cells": [
  {
   "cell_type": "markdown",
   "id": "5af8e695-ba06-48c1-8697-8a649d26cc0a",
   "metadata": {},
   "source": [
    "# "
   ]
  },
  {
   "cell_type": "code",
   "execution_count": null,
   "id": "0889ccfa-8531-44e4-b7d3-2ccd37e67ea3",
   "metadata": {},
   "outputs": [],
   "source": []
  },
  {
   "cell_type": "code",
   "execution_count": 11,
   "id": "e50413b0-10d9-4875-8a88-e8c161f103c1",
   "metadata": {},
   "outputs": [],
   "source": [
    "import importlib\n",
    "\n",
    "def import_and_install(packages):\n",
    "    for package in packages:\n",
    "        try:\n",
    "            importlib.import_module(package)\n",
    "            print(f\"{package} is already installed!\")\n",
    "        except ImportError:\n",
    "            print(f\"{package} is not installed, installing now...\")\n",
    "            !pip install {package}\n",
    "            print(f\"{package} has been installed sucessfully!\")\n"
   ]
  },
  {
   "cell_type": "code",
   "execution_count": 12,
   "id": "0e0e2ff4-f54c-4fa3-810b-ea21ed4561aa",
   "metadata": {},
   "outputs": [
    {
     "name": "stdout",
     "output_type": "stream",
     "text": [
      "numpy is already installed!\n",
      "pandas is not installed, installing now...\n",
      "Defaulting to user installation because normal site-packages is not writeable\n",
      "Requirement already satisfied: pandas in /home/patrick/.local/lib/python3.10/site-packages (2.2.3)\n",
      "Requirement already satisfied: numpy>=1.22.4 in /home/patrick/.local/lib/python3.10/site-packages (from pandas) (2.2.5)\n",
      "Requirement already satisfied: tzdata>=2022.7 in /home/patrick/.local/lib/python3.10/site-packages (from pandas) (2025.2)\n",
      "Requirement already satisfied: python-dateutil>=2.8.2 in /home/patrick/.local/lib/python3.10/site-packages (from pandas) (2.9.0.post0)\n",
      "Requirement already satisfied: pytz>=2020.1 in /usr/lib/python3/dist-packages (from pandas) (2022.1)\n",
      "Requirement already satisfied: six>=1.5 in /usr/lib/python3/dist-packages (from python-dateutil>=2.8.2->pandas) (1.16.0)\n",
      "pandas has been installed sucessfully!\n",
      "matplotlib is already installed!\n",
      "intake is already installed!\n",
      "datetime is already installed!\n",
      "plotly is already installed!\n",
      "intake-esm is not installed, installing now...\n",
      "Defaulting to user installation because normal site-packages is not writeable\n",
      "Requirement already satisfied: intake-esm in /home/patrick/.local/lib/python3.10/site-packages (2025.2.3)\n",
      "Requirement already satisfied: fastprogress>=1.0.0 in /home/patrick/.local/lib/python3.10/site-packages (from intake-esm) (1.0.3)\n",
      "Requirement already satisfied: xarray>=2024.10 in /home/patrick/.local/lib/python3.10/site-packages (from intake-esm) (2025.4.0)\n",
      "Requirement already satisfied: dask[complete]>=2024.12 in /home/patrick/.local/lib/python3.10/site-packages (from intake-esm) (2025.4.1)\n",
      "Requirement already satisfied: pydantic>=2.0 in /home/patrick/.local/lib/python3.10/site-packages (from intake-esm) (2.11.4)\n",
      "Requirement already satisfied: intake>=2.0.0 in /home/patrick/.local/lib/python3.10/site-packages (from intake-esm) (2.0.8)\n",
      "Requirement already satisfied: requests>=2.24.0 in /home/patrick/.local/lib/python3.10/site-packages (from intake-esm) (2.32.3)\n",
      "Requirement already satisfied: netCDF4>=1.5.5 in /home/patrick/.local/lib/python3.10/site-packages (from intake-esm) (1.7.2)\n",
      "Requirement already satisfied: fsspec>=2024.12 in /home/patrick/.local/lib/python3.10/site-packages (from intake-esm) (2025.3.2)\n",
      "Requirement already satisfied: pandas>=2.1.0 in /home/patrick/.local/lib/python3.10/site-packages (from intake-esm) (2.2.3)\n",
      "Requirement already satisfied: zarr>=2.12 in /home/patrick/.local/lib/python3.10/site-packages (from intake-esm) (2.18.3)\n",
      "Requirement already satisfied: importlib_metadata>=4.13.0 in /home/patrick/.local/lib/python3.10/site-packages (from dask[complete]>=2024.12->intake-esm) (8.7.0)\n",
      "Requirement already satisfied: cloudpickle>=3.0.0 in /home/patrick/.local/lib/python3.10/site-packages (from dask[complete]>=2024.12->intake-esm) (3.1.1)\n",
      "Requirement already satisfied: click>=8.1 in /home/patrick/.local/lib/python3.10/site-packages (from dask[complete]>=2024.12->intake-esm) (8.1.8)\n",
      "Requirement already satisfied: partd>=1.4.0 in /home/patrick/.local/lib/python3.10/site-packages (from dask[complete]>=2024.12->intake-esm) (1.4.2)\n",
      "Requirement already satisfied: packaging>=20.0 in /home/patrick/.local/lib/python3.10/site-packages (from dask[complete]>=2024.12->intake-esm) (25.0)\n",
      "Requirement already satisfied: pyyaml>=5.3.1 in /usr/lib/python3/dist-packages (from dask[complete]>=2024.12->intake-esm) (5.4.1)\n",
      "Requirement already satisfied: toolz>=0.10.0 in /home/patrick/.local/lib/python3.10/site-packages (from dask[complete]>=2024.12->intake-esm) (1.0.0)\n",
      "Requirement already satisfied: lz4>=4.3.2 in /home/patrick/.local/lib/python3.10/site-packages (from dask[complete]>=2024.12->intake-esm) (4.4.4)\n",
      "Requirement already satisfied: pyarrow>=14.0.1 in /home/patrick/.local/lib/python3.10/site-packages (from dask[complete]>=2024.12->intake-esm) (20.0.0)\n",
      "Requirement already satisfied: networkx in /home/patrick/.local/lib/python3.10/site-packages (from intake>=2.0.0->intake-esm) (3.4.2)\n",
      "Requirement already satisfied: platformdirs in /home/patrick/.local/lib/python3.10/site-packages (from intake>=2.0.0->intake-esm) (4.3.7)\n",
      "Requirement already satisfied: certifi in /usr/lib/python3/dist-packages (from netCDF4>=1.5.5->intake-esm) (2020.6.20)\n",
      "Requirement already satisfied: numpy in /home/patrick/.local/lib/python3.10/site-packages (from netCDF4>=1.5.5->intake-esm) (2.2.5)\n",
      "Requirement already satisfied: cftime in /home/patrick/.local/lib/python3.10/site-packages (from netCDF4>=1.5.5->intake-esm) (1.6.4.post1)\n",
      "Requirement already satisfied: pytz>=2020.1 in /usr/lib/python3/dist-packages (from pandas>=2.1.0->intake-esm) (2022.1)\n",
      "Requirement already satisfied: tzdata>=2022.7 in /home/patrick/.local/lib/python3.10/site-packages (from pandas>=2.1.0->intake-esm) (2025.2)\n",
      "Requirement already satisfied: python-dateutil>=2.8.2 in /home/patrick/.local/lib/python3.10/site-packages (from pandas>=2.1.0->intake-esm) (2.9.0.post0)\n",
      "Requirement already satisfied: pydantic-core==2.33.2 in /home/patrick/.local/lib/python3.10/site-packages (from pydantic>=2.0->intake-esm) (2.33.2)\n",
      "Requirement already satisfied: typing-extensions>=4.12.2 in /home/patrick/.local/lib/python3.10/site-packages (from pydantic>=2.0->intake-esm) (4.13.2)\n",
      "Requirement already satisfied: typing-inspection>=0.4.0 in /home/patrick/.local/lib/python3.10/site-packages (from pydantic>=2.0->intake-esm) (0.4.0)\n",
      "Requirement already satisfied: annotated-types>=0.6.0 in /home/patrick/.local/lib/python3.10/site-packages (from pydantic>=2.0->intake-esm) (0.7.0)\n",
      "Requirement already satisfied: charset-normalizer<4,>=2 in /home/patrick/.local/lib/python3.10/site-packages (from requests>=2.24.0->intake-esm) (3.4.1)\n",
      "Requirement already satisfied: idna<4,>=2.5 in /usr/lib/python3/dist-packages (from requests>=2.24.0->intake-esm) (3.3)\n",
      "Requirement already satisfied: urllib3<3,>=1.21.1 in /usr/lib/python3/dist-packages (from requests>=2.24.0->intake-esm) (1.26.5)\n",
      "Requirement already satisfied: fasteners in /usr/lib/python3/dist-packages (from zarr>=2.12->intake-esm) (0.14.1)\n",
      "Requirement already satisfied: asciitree in /home/patrick/.local/lib/python3.10/site-packages (from zarr>=2.12->intake-esm) (0.3.3)\n",
      "Requirement already satisfied: numcodecs>=0.10.0 in /home/patrick/.local/lib/python3.10/site-packages (from zarr>=2.12->intake-esm) (0.13.1)\n",
      "Requirement already satisfied: zipp>=3.20 in /home/patrick/.local/lib/python3.10/site-packages (from importlib_metadata>=4.13.0->dask[complete]>=2024.12->intake-esm) (3.21.0)\n",
      "Requirement already satisfied: locket in /home/patrick/.local/lib/python3.10/site-packages (from partd>=1.4.0->dask[complete]>=2024.12->intake-esm) (1.0.0)\n",
      "Requirement already satisfied: six>=1.5 in /usr/lib/python3/dist-packages (from python-dateutil>=2.8.2->pandas>=2.1.0->intake-esm) (1.16.0)\n",
      "Requirement already satisfied: jinja2>=2.10.3 in /home/patrick/.local/lib/python3.10/site-packages (from dask[complete]>=2024.12->intake-esm) (3.1.6)\n",
      "Requirement already satisfied: bokeh>=3.1.0 in /home/patrick/.local/lib/python3.10/site-packages (from dask[complete]>=2024.12->intake-esm) (3.7.2)\n",
      "Requirement already satisfied: distributed==2025.4.1 in /home/patrick/.local/lib/python3.10/site-packages (from dask[complete]>=2024.12->intake-esm) (2025.4.1)\n",
      "Requirement already satisfied: tblib>=1.6.0 in /home/patrick/.local/lib/python3.10/site-packages (from distributed==2025.4.1->dask[complete]>=2024.12->intake-esm) (3.1.0)\n",
      "Requirement already satisfied: msgpack>=1.0.2 in /home/patrick/.local/lib/python3.10/site-packages (from distributed==2025.4.1->dask[complete]>=2024.12->intake-esm) (1.1.0)\n",
      "Requirement already satisfied: sortedcontainers>=2.0.5 in /usr/lib/python3/dist-packages (from distributed==2025.4.1->dask[complete]>=2024.12->intake-esm) (2.1.0)\n",
      "Requirement already satisfied: zict>=3.0.0 in /home/patrick/.local/lib/python3.10/site-packages (from distributed==2025.4.1->dask[complete]>=2024.12->intake-esm) (3.0.0)\n",
      "Requirement already satisfied: tornado>=6.2.0 in /home/patrick/.local/lib/python3.10/site-packages (from distributed==2025.4.1->dask[complete]>=2024.12->intake-esm) (6.4.2)\n",
      "Requirement already satisfied: psutil>=5.8.0 in /home/patrick/.local/lib/python3.10/site-packages (from distributed==2025.4.1->dask[complete]>=2024.12->intake-esm) (7.0.0)\n",
      "Requirement already satisfied: pillow>=7.1.0 in /usr/lib/python3/dist-packages (from bokeh>=3.1.0->dask[complete]>=2024.12->intake-esm) (9.0.1)\n",
      "Requirement already satisfied: xyzservices>=2021.09.1 in /home/patrick/.local/lib/python3.10/site-packages (from bokeh>=3.1.0->dask[complete]>=2024.12->intake-esm) (2025.4.0)\n",
      "Requirement already satisfied: narwhals>=1.13 in /home/patrick/.local/lib/python3.10/site-packages (from bokeh>=3.1.0->dask[complete]>=2024.12->intake-esm) (1.37.1)\n",
      "Requirement already satisfied: contourpy>=1.2 in /home/patrick/.local/lib/python3.10/site-packages (from bokeh>=3.1.0->dask[complete]>=2024.12->intake-esm) (1.3.2)\n",
      "Requirement already satisfied: MarkupSafe>=2.0 in /usr/lib/python3/dist-packages (from jinja2>=2.10.3->dask[complete]>=2024.12->intake-esm) (2.0.1)\n",
      "intake-esm has been installed sucessfully!\n",
      "pathlib is already installed!\n"
     ]
    }
   ],
   "source": [
    "packages = ['numpy', 'pandas', 'matplotlib', 'intake', 'datetime', 'plotly', 'intake-esm', 'pathlib']\n",
    "\n",
    "import_and_install(packages)"
   ]
  },
  {
   "cell_type": "code",
   "execution_count": 13,
   "id": "cc8d30d6-27df-4f1b-9656-e84d0a314e01",
   "metadata": {},
   "outputs": [
    {
     "ename": "ImportError",
     "evalue": "C extension: None not built. If you want to import pandas from the source directory, you may need to run 'python setup.py build_ext' to build the C extensions first.",
     "output_type": "error",
     "traceback": [
      "\u001b[0;31m---------------------------------------------------------------------------\u001b[0m",
      "\u001b[0;31mImportError\u001b[0m                               Traceback (most recent call last)",
      "File \u001b[0;32m~/.local/lib/python3.10/site-packages/pandas/__init__.py:26\u001b[0m\n\u001b[1;32m     24\u001b[0m \u001b[38;5;28;01mtry\u001b[39;00m:\n\u001b[1;32m     25\u001b[0m     \u001b[38;5;66;03m# numpy compat\u001b[39;00m\n\u001b[0;32m---> 26\u001b[0m     \u001b[38;5;28;01mfrom\u001b[39;00m\u001b[38;5;250m \u001b[39m\u001b[38;5;21;01mpandas\u001b[39;00m\u001b[38;5;21;01m.\u001b[39;00m\u001b[38;5;21;01mcompat\u001b[39;00m\u001b[38;5;250m \u001b[39m\u001b[38;5;28;01mimport\u001b[39;00m (\n\u001b[1;32m     27\u001b[0m         is_numpy_dev \u001b[38;5;28;01mas\u001b[39;00m _is_numpy_dev,  \u001b[38;5;66;03m# pyright: ignore[reportUnusedImport] # noqa: F401\u001b[39;00m\n\u001b[1;32m     28\u001b[0m     )\n\u001b[1;32m     29\u001b[0m \u001b[38;5;28;01mexcept\u001b[39;00m \u001b[38;5;167;01mImportError\u001b[39;00m \u001b[38;5;28;01mas\u001b[39;00m _err:  \u001b[38;5;66;03m# pragma: no cover\u001b[39;00m\n",
      "File \u001b[0;32m~/.local/lib/python3.10/site-packages/pandas/compat/__init__.py:26\u001b[0m\n\u001b[1;32m     25\u001b[0m \u001b[38;5;28;01mimport\u001b[39;00m\u001b[38;5;250m \u001b[39m\u001b[38;5;21;01mpandas\u001b[39;00m\u001b[38;5;21;01m.\u001b[39;00m\u001b[38;5;21;01mcompat\u001b[39;00m\u001b[38;5;21;01m.\u001b[39;00m\u001b[38;5;21;01mcompressors\u001b[39;00m\n\u001b[0;32m---> 26\u001b[0m \u001b[38;5;28;01mfrom\u001b[39;00m\u001b[38;5;250m \u001b[39m\u001b[38;5;21;01mpandas\u001b[39;00m\u001b[38;5;21;01m.\u001b[39;00m\u001b[38;5;21;01mcompat\u001b[39;00m\u001b[38;5;21;01m.\u001b[39;00m\u001b[38;5;21;01mnumpy\u001b[39;00m\u001b[38;5;250m \u001b[39m\u001b[38;5;28;01mimport\u001b[39;00m is_numpy_dev\n\u001b[1;32m     27\u001b[0m \u001b[38;5;28;01mfrom\u001b[39;00m\u001b[38;5;250m \u001b[39m\u001b[38;5;21;01mpandas\u001b[39;00m\u001b[38;5;21;01m.\u001b[39;00m\u001b[38;5;21;01mcompat\u001b[39;00m\u001b[38;5;21;01m.\u001b[39;00m\u001b[38;5;21;01mpyarrow\u001b[39;00m\u001b[38;5;250m \u001b[39m\u001b[38;5;28;01mimport\u001b[39;00m (\n\u001b[1;32m     28\u001b[0m     pa_version_under10p1,\n\u001b[1;32m     29\u001b[0m     pa_version_under11p0,\n\u001b[0;32m   (...)\u001b[0m\n\u001b[1;32m     34\u001b[0m     pa_version_under17p0,\n\u001b[1;32m     35\u001b[0m )\n",
      "File \u001b[0;32m~/.local/lib/python3.10/site-packages/pandas/compat/numpy/__init__.py:21\u001b[0m\n\u001b[1;32m     20\u001b[0m \u001b[38;5;28;01mif\u001b[39;00m _nlv \u001b[38;5;241m<\u001b[39m Version(_min_numpy_ver):\n\u001b[0;32m---> 21\u001b[0m     \u001b[38;5;28;01mraise\u001b[39;00m \u001b[38;5;167;01mImportError\u001b[39;00m(\n\u001b[1;32m     22\u001b[0m         \u001b[38;5;124mf\u001b[39m\u001b[38;5;124m\"\u001b[39m\u001b[38;5;124mthis version of pandas is incompatible with numpy < \u001b[39m\u001b[38;5;132;01m{\u001b[39;00m_min_numpy_ver\u001b[38;5;132;01m}\u001b[39;00m\u001b[38;5;130;01m\\n\u001b[39;00m\u001b[38;5;124m\"\u001b[39m\n\u001b[1;32m     23\u001b[0m         \u001b[38;5;124mf\u001b[39m\u001b[38;5;124m\"\u001b[39m\u001b[38;5;124myour numpy version is \u001b[39m\u001b[38;5;132;01m{\u001b[39;00m_np_version\u001b[38;5;132;01m}\u001b[39;00m\u001b[38;5;124m.\u001b[39m\u001b[38;5;130;01m\\n\u001b[39;00m\u001b[38;5;124m\"\u001b[39m\n\u001b[1;32m     24\u001b[0m         \u001b[38;5;124mf\u001b[39m\u001b[38;5;124m\"\u001b[39m\u001b[38;5;124mPlease upgrade numpy to >= \u001b[39m\u001b[38;5;132;01m{\u001b[39;00m_min_numpy_ver\u001b[38;5;132;01m}\u001b[39;00m\u001b[38;5;124m to use this pandas version\u001b[39m\u001b[38;5;124m\"\u001b[39m\n\u001b[1;32m     25\u001b[0m     )\n\u001b[1;32m     28\u001b[0m np_long: \u001b[38;5;28mtype\u001b[39m\n",
      "\u001b[0;31mImportError\u001b[0m: this version of pandas is incompatible with numpy < 1.22.4\nyour numpy version is 1.21.5.\nPlease upgrade numpy to >= 1.22.4 to use this pandas version",
      "\nThe above exception was the direct cause of the following exception:\n",
      "\u001b[0;31mImportError\u001b[0m                               Traceback (most recent call last)",
      "Cell \u001b[0;32mIn[13], line 1\u001b[0m\n\u001b[0;32m----> 1\u001b[0m \u001b[38;5;28;01mimport\u001b[39;00m\u001b[38;5;250m \u001b[39m\u001b[38;5;21;01mpandas\u001b[39;00m\u001b[38;5;250m \u001b[39m\u001b[38;5;28;01mas\u001b[39;00m\u001b[38;5;250m \u001b[39m\u001b[38;5;21;01mpd\u001b[39;00m\n\u001b[1;32m      2\u001b[0m \u001b[38;5;28;01mimport\u001b[39;00m\u001b[38;5;250m \u001b[39m\u001b[38;5;21;01mnumpy\u001b[39;00m\u001b[38;5;250m \u001b[39m\u001b[38;5;28;01mas\u001b[39;00m\u001b[38;5;250m \u001b[39m\u001b[38;5;21;01mnp\u001b[39;00m\n\u001b[1;32m      3\u001b[0m \u001b[38;5;28;01mimport\u001b[39;00m\u001b[38;5;250m \u001b[39m\u001b[38;5;21;01mmatplotlib\u001b[39;00m\u001b[38;5;21;01m.\u001b[39;00m\u001b[38;5;21;01mcolors\u001b[39;00m\u001b[38;5;250m \u001b[39m\u001b[38;5;28;01mas\u001b[39;00m\u001b[38;5;250m \u001b[39m\u001b[38;5;21;01mmcolors\u001b[39;00m\n",
      "File \u001b[0;32m~/.local/lib/python3.10/site-packages/pandas/__init__.py:31\u001b[0m\n\u001b[1;32m     29\u001b[0m \u001b[38;5;28;01mexcept\u001b[39;00m \u001b[38;5;167;01mImportError\u001b[39;00m \u001b[38;5;28;01mas\u001b[39;00m _err:  \u001b[38;5;66;03m# pragma: no cover\u001b[39;00m\n\u001b[1;32m     30\u001b[0m     _module \u001b[38;5;241m=\u001b[39m _err\u001b[38;5;241m.\u001b[39mname\n\u001b[0;32m---> 31\u001b[0m     \u001b[38;5;28;01mraise\u001b[39;00m \u001b[38;5;167;01mImportError\u001b[39;00m(\n\u001b[1;32m     32\u001b[0m         \u001b[38;5;124mf\u001b[39m\u001b[38;5;124m\"\u001b[39m\u001b[38;5;124mC extension: \u001b[39m\u001b[38;5;132;01m{\u001b[39;00m_module\u001b[38;5;132;01m}\u001b[39;00m\u001b[38;5;124m not built. If you want to import \u001b[39m\u001b[38;5;124m\"\u001b[39m\n\u001b[1;32m     33\u001b[0m         \u001b[38;5;124m\"\u001b[39m\u001b[38;5;124mpandas from the source directory, you may need to run \u001b[39m\u001b[38;5;124m\"\u001b[39m\n\u001b[1;32m     34\u001b[0m         \u001b[38;5;124m\"\u001b[39m\u001b[38;5;124m'\u001b[39m\u001b[38;5;124mpython setup.py build_ext\u001b[39m\u001b[38;5;124m'\u001b[39m\u001b[38;5;124m to build the C extensions first.\u001b[39m\u001b[38;5;124m\"\u001b[39m\n\u001b[1;32m     35\u001b[0m     ) \u001b[38;5;28;01mfrom\u001b[39;00m\u001b[38;5;250m \u001b[39m\u001b[38;5;21;01m_err\u001b[39;00m\n\u001b[1;32m     37\u001b[0m \u001b[38;5;28;01mfrom\u001b[39;00m\u001b[38;5;250m \u001b[39m\u001b[38;5;21;01mpandas\u001b[39;00m\u001b[38;5;21;01m.\u001b[39;00m\u001b[38;5;21;01m_config\u001b[39;00m\u001b[38;5;250m \u001b[39m\u001b[38;5;28;01mimport\u001b[39;00m (\n\u001b[1;32m     38\u001b[0m     get_option,\n\u001b[1;32m     39\u001b[0m     set_option,\n\u001b[0;32m   (...)\u001b[0m\n\u001b[1;32m     43\u001b[0m     options,\n\u001b[1;32m     44\u001b[0m )\n\u001b[1;32m     46\u001b[0m \u001b[38;5;66;03m# let init-time option registration happen\u001b[39;00m\n",
      "\u001b[0;31mImportError\u001b[0m: C extension: None not built. If you want to import pandas from the source directory, you may need to run 'python setup.py build_ext' to build the C extensions first."
     ]
    }
   ],
   "source": [
    "import pandas as pd\n",
    "import numpy as np\n",
    "import matplotlib.colors as mcolors\n",
    "\n",
    "from matplotlib import pyplot as plt\n",
    "from pathlib import Path\n",
    "from datetime import time"
   ]
  }
 ],
 "metadata": {
  "kernelspec": {
   "display_name": "Python 3 (ipykernel)",
   "language": "python",
   "name": "python3"
  },
  "language_info": {
   "codemirror_mode": {
    "name": "ipython",
    "version": 3
   },
   "file_extension": ".py",
   "mimetype": "text/x-python",
   "name": "python",
   "nbconvert_exporter": "python",
   "pygments_lexer": "ipython3",
   "version": "3.10.12"
  }
 },
 "nbformat": 4,
 "nbformat_minor": 5
}
